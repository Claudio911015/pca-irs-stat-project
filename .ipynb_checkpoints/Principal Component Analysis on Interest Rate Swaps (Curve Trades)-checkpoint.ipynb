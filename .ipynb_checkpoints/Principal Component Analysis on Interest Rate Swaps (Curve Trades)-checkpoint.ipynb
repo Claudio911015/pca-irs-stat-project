{
 "cells": [
  {
   "cell_type": "markdown",
   "metadata": {},
   "source": [
    "By Linan Qiu [lq2137@columbia.edu](lq2137@columbia.edu)"
   ]
  },
  {
   "cell_type": "markdown",
   "metadata": {},
   "source": [
    "In partial satisfaction of the project requirement for the class Statistical Methods in Finance `STAT W4290` Fall 2015."
   ]
  },
  {
   "cell_type": "markdown",
   "metadata": {},
   "source": [
    "This is the second part of the project on applying PCA to IRS.\n",
    "\n",
    "# PCA on Curve Trade Rates\n",
    "\n",
    "## Review on Curve Trades and Butterfly Trades\n",
    "\n",
    "Refer to the introduction for a complete breakdown of curve trades and butterfly trades. As a reminder,\n",
    "\n",
    "- Curve trades are bets on the slope of a specific section of the curve\n",
    "- Butterflies are bets on the curvature of two specific sections of the curve.\n",
    "\n",
    "## Data Collection\n",
    "\n",
    "We employ most of the same data collection methods as in the previous section."
   ]
  },
  {
   "cell_type": "code",
   "execution_count": 2,
   "metadata": {
    "collapsed": false
   },
   "outputs": [],
   "source": [
    "library(quantmod)\n",
    "library(downloader)\n",
    "\n",
    "terms = c(1, 2, 3, 4, 5, 7, 10, 30)\n",
    "for (term in terms) {\n",
    "  getSymbols(paste('DSWP', term, sep=''), src='FRED')\n",
    "}\n",
    "\n",
    "DSWP1 = DSWP1[!is.na(DSWP1)]\n",
    "DSWP2 = DSWP2[!is.na(DSWP2)]\n",
    "DSWP3 = DSWP3[!is.na(DSWP3)]\n",
    "DSWP4 = DSWP4[!is.na(DSWP4)]\n",
    "DSWP5 = DSWP5[!is.na(DSWP5)]\n",
    "DSWP7 = DSWP7[!is.na(DSWP7)]\n",
    "DSWP10 = DSWP10[!is.na(DSWP10)]\n",
    "DSWP30 = DSWP30[!is.na(DSWP30)]"
   ]
  },
  {
   "cell_type": "markdown",
   "metadata": {},
   "source": [
    "The yield of a curve trade is calculated as follow:\n",
    "\n",
    "$$C = S_{0, t_2} - S_{0, t_1}$$\n",
    "\n",
    "where $C$ is the curve trade rate, $S_{0,t_2}$ is the swap rate for an IRS of maturity $t_2$ and $S_{0, t_2}$ is the swap rate for an IRS of maturity $t_1$. Intuitively, we can think of this the forward rate from $t_1$ to $t_2$ and indeed it is. We select the following \"tenors\" (sections of the yield curve) to represent the whole yield curve. They are quoted as \"XsYs\" where we pay fix for X years and receive fix for Y years of IRS.\n",
    "\n",
    "- 2s1s\n",
    "- 3s1s\n",
    "- 4s1s\n",
    "- 5s1s\n",
    "- 7s1s\n",
    "- 10s2s\n",
    "- 10s5s\n",
    "- 30s10s\n",
    "\n",
    "And select only the rates for the year to date."
   ]
  },
  {
   "cell_type": "code",
   "execution_count": 4,
   "metadata": {
    "collapsed": true
   },
   "outputs": [],
   "source": [
    "# 2-1, 3-1, 4-1, 5-1, 7-1, 10-2, 10-5, 30-10\n",
    "curve2_1 = DSWP2 - DSWP1\n",
    "curve3_1 = DSWP3 - DSWP1\n",
    "curve4_1 = DSWP4 - DSWP1\n",
    "curve5_1 = DSWP5 - DSWP1\n",
    "curve7_1 = DSWP7 - DSWP1\n",
    "curve10_2 = DSWP10 - DSWP2\n",
    "curve10_5 = DSWP10 - DSWP5\n",
    "curve30_10 = DSWP30 - DSWP10\n",
    "\n",
    "rates = cbind(curve2_1, curve3_1, curve4_1, curve5_1, curve7_1, curve10_2, curve10_5, curve30_10)\n",
    "rates = last(rates, 250)\n",
    "colnames(rates) = c('curve2y1y', 'curve3y1y', 'curve4y1y', 'curve5y1y', 'curve7y1y', 'curve10y2y', 'curve10y5y', 'curve30y10y')"
   ]
  },
  {
   "cell_type": "code",
   "execution_count": null,
   "metadata": {
    "collapsed": true
   },
   "outputs": [],
   "source": [
    "library(ggplot2)\n",
    "library(reshape)\n",
    "dataframe = data.frame(index(rates), rates)\n",
    "colnames(dataframe) = c('date', 'curve2y1y', 'curve3y1y', 'curve4y1y', 'curve5y1y', 'curve7y1y', 'curve10y2y', 'curve10y5y', 'curve30y10y')\n",
    "melted = melt(dataframe, id.vars='date')\n",
    "plot = ggplot(data=melted, aes(x=as.Date(date), y=value, color=variable)) + geom_line()\n",
    "plot"
   ]
  }
 ],
 "metadata": {
  "kernelspec": {
   "display_name": "R",
   "language": "R",
   "name": "ir"
  },
  "language_info": {
   "codemirror_mode": "r",
   "file_extension": ".r",
   "mimetype": "text/x-r-source",
   "name": "R",
   "pygments_lexer": "r",
   "version": "3.1.2"
  }
 },
 "nbformat": 4,
 "nbformat_minor": 0
}
